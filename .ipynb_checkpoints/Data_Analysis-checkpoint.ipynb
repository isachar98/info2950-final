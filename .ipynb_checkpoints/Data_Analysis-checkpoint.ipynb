{
 "cells": [
  {
   "cell_type": "markdown",
   "metadata": {},
   "source": [
    "# INFO 2950 - FINAL PROJECT (Avni Kulshrestha, Aryana Thapliyal, and Ishneet Sachar)"
   ]
  },
  {
   "cell_type": "markdown",
   "metadata": {},
   "source": [
    "# Introduction"
   ]
  },
  {
   "cell_type": "markdown",
   "metadata": {},
   "source": [
    "Our final project hopes to discover a relationship between AQI index, population size, and income level across the different states and their respective counties in the US. We found three separate datasets (state and county AQI, population size, and income level) and pulled all the relevant data we needed to do our analysis. We hope to see if there is any relationship amongst the three variables. \n",
    "\n",
    "Our Hypothesis and research questions are: \n",
    "On the one hand, we might expect a negative effect of population and income on AQI because a higher population would be correlated with more pollution. Higher income might also be correlated with a higher car ownership, all contributing to lower air quality.\n",
    "On the other hand, we might also expect a positive effect of population and income on AQI because more rural areas (with less population and probably lower income) might be designated as factory/industrial areas, which would lead to lower AQI.  \n",
    "\n",
    "Our data analysis below will investigate the variables in comparison to one another to see if there are any relationships between the variables, to answer our research question.\n"
   ]
  },
  {
   "cell_type": "markdown",
   "metadata": {},
   "source": [
    "# Data Analysis"
   ]
  },
  {
   "cell_type": "markdown",
   "metadata": {},
   "source": [
    "## Summary Statistics"
   ]
  },
  {
   "cell_type": "code",
   "execution_count": 102,
   "metadata": {},
   "outputs": [],
   "source": [
    "import pandas as pd\n",
    "import numpy as np\n",
    "import matplotlib.pyplot as plt\n",
    "from sklearn.linear_model import LinearRegression\n",
    "from scipy import stats #for two-sample independent t-test "
   ]
  },
  {
   "cell_type": "code",
   "execution_count": 137,
   "metadata": {},
   "outputs": [],
   "source": [
    "#Our combined and cleaned datasets, done in a previous project phase.\n",
    "combined = pd.read_csv('FinalCombined.csv')\n",
    "combined = combined[[\"State\", \"Abbreviation\", \"County\", \"avg_aqi\", \"Pop_Estimate\", \"Per capita personal income 2018\"]]\n",
    "combined = combined.drop_duplicates()"
   ]
  },
  {
   "cell_type": "code",
   "execution_count": 138,
   "metadata": {},
   "outputs": [
    {
     "data": {
      "text/html": [
       "<div>\n",
       "<style scoped>\n",
       "    .dataframe tbody tr th:only-of-type {\n",
       "        vertical-align: middle;\n",
       "    }\n",
       "\n",
       "    .dataframe tbody tr th {\n",
       "        vertical-align: top;\n",
       "    }\n",
       "\n",
       "    .dataframe thead th {\n",
       "        text-align: right;\n",
       "    }\n",
       "</style>\n",
       "<table border=\"1\" class=\"dataframe\">\n",
       "  <thead>\n",
       "    <tr style=\"text-align: right;\">\n",
       "      <th></th>\n",
       "      <th>State</th>\n",
       "      <th>Abbreviation</th>\n",
       "      <th>County</th>\n",
       "      <th>avg_aqi</th>\n",
       "      <th>Pop_Estimate</th>\n",
       "      <th>Per capita personal income 2018</th>\n",
       "    </tr>\n",
       "  </thead>\n",
       "  <tbody>\n",
       "    <tr>\n",
       "      <th>0</th>\n",
       "      <td>Alabama</td>\n",
       "      <td>AL</td>\n",
       "      <td>Baldwin</td>\n",
       "      <td>36.83</td>\n",
       "      <td>218,022</td>\n",
       "      <td>45,596</td>\n",
       "    </tr>\n",
       "    <tr>\n",
       "      <th>1</th>\n",
       "      <td>Alabama</td>\n",
       "      <td>AL</td>\n",
       "      <td>Clay</td>\n",
       "      <td>28.99</td>\n",
       "      <td>13,275</td>\n",
       "      <td>33,530</td>\n",
       "    </tr>\n",
       "    <tr>\n",
       "      <th>2</th>\n",
       "      <td>Alabama</td>\n",
       "      <td>AL</td>\n",
       "      <td>Colbert</td>\n",
       "      <td>35.64</td>\n",
       "      <td>54,762</td>\n",
       "      <td>38,378</td>\n",
       "    </tr>\n",
       "    <tr>\n",
       "      <th>3</th>\n",
       "      <td>Alabama</td>\n",
       "      <td>AL</td>\n",
       "      <td>DeKalb</td>\n",
       "      <td>36.72</td>\n",
       "      <td>71,385</td>\n",
       "      <td>31,916</td>\n",
       "    </tr>\n",
       "    <tr>\n",
       "      <th>4</th>\n",
       "      <td>Alabama</td>\n",
       "      <td>AL</td>\n",
       "      <td>Elmore</td>\n",
       "      <td>35.33</td>\n",
       "      <td>81,887</td>\n",
       "      <td>42,269</td>\n",
       "    </tr>\n",
       "  </tbody>\n",
       "</table>\n",
       "</div>"
      ],
      "text/plain": [
       "     State Abbreviation   County  avg_aqi Pop_Estimate  \\\n",
       "0  Alabama           AL  Baldwin    36.83      218,022   \n",
       "1  Alabama           AL     Clay    28.99       13,275   \n",
       "2  Alabama           AL  Colbert    35.64       54,762   \n",
       "3  Alabama           AL   DeKalb    36.72       71,385   \n",
       "4  Alabama           AL   Elmore    35.33       81,887   \n",
       "\n",
       "  Per capita personal income 2018  \n",
       "0                          45,596  \n",
       "1                          33,530  \n",
       "2                          38,378  \n",
       "3                          31,916  \n",
       "4                          42,269  "
      ]
     },
     "execution_count": 138,
     "metadata": {},
     "output_type": "execute_result"
    }
   ],
   "source": [
    "combined.head()"
   ]
  },
  {
   "cell_type": "code",
   "execution_count": 139,
   "metadata": {},
   "outputs": [
    {
     "data": {
      "text/plain": [
       "999"
      ]
     },
     "execution_count": 139,
     "metadata": {},
     "output_type": "execute_result"
    }
   ],
   "source": [
    "len(combined)"
   ]
  },
  {
   "cell_type": "code",
   "execution_count": 140,
   "metadata": {},
   "outputs": [
    {
     "data": {
      "text/plain": [
       "State                                 Hawaii\n",
       "Abbreviation                              HI\n",
       "County                                Hawaii\n",
       "avg_aqi                                99.55\n",
       "Pop_Estimate                       1,420,491\n",
       "Per capita personal income 2018       55,418\n",
       "Name: 210, dtype: object"
      ]
     },
     "execution_count": 140,
     "metadata": {},
     "output_type": "execute_result"
    }
   ],
   "source": [
    "combined.loc[combined[\"avg_aqi\"].idxmax()]"
   ]
  },
  {
   "cell_type": "markdown",
   "metadata": {},
   "source": [
    "We are surprised that the county with the highest AQI is Hawaai, when did a quick search on google we are met with results saying that Hawaai \"boasts some of the bery best air quality in the nation\". We found online that the average should be in the 20s. From additional research we have learned that there was a volcano eruption in 2018 that has a high probability of being the reason of the high AQI, for this reason we have decided to not use this datapoint as we are looking for a correlation with the population and income. Additionally we found there were four counties with the named Hawaii with the same very high aqi so we also removed these. "
   ]
  },
  {
   "cell_type": "code",
   "execution_count": 144,
   "metadata": {},
   "outputs": [],
   "source": [
    "combined = combined.drop(combined.index[[210,211,212,213]])"
   ]
  },
  {
   "cell_type": "code",
   "execution_count": 145,
   "metadata": {},
   "outputs": [
    {
     "data": {
      "text/plain": [
       "State                                  California\n",
       "Abbreviation                                   CA\n",
       "County                             San Bernardino\n",
       "avg_aqi                                     98.58\n",
       "Pop_Estimate                            2,171,603\n",
       "Per capita personal income 2018            40,316\n",
       "Name: 77, dtype: object"
      ]
     },
     "execution_count": 145,
     "metadata": {},
     "output_type": "execute_result"
    }
   ],
   "source": [
    "combined.loc[combined[\"avg_aqi\"].idxmax()]"
   ]
  },
  {
   "cell_type": "code",
   "execution_count": 64,
   "metadata": {},
   "outputs": [
    {
     "data": {
      "text/plain": [
       "Unnamed: 0                              565\n",
       "State                              New York\n",
       "Abbreviation                             NY\n",
       "County                             New York\n",
       "avg_aqi                               45.11\n",
       "Pop_Estimate                       19542209\n",
       "Per capita personal income 2018       68668\n",
       "Pop_standard (1000s)                19542.2\n",
       "Income_standard (1000s)              68.668\n",
       "log_aqi                              3.8091\n",
       "log_income                           11.137\n",
       "log_pop                             16.7881\n",
       "Name: 565, dtype: object"
      ]
     },
     "execution_count": 64,
     "metadata": {},
     "output_type": "execute_result"
    }
   ],
   "source": [
    "combined.loc[combined[\"Pop_Estimate\"].idxmax()]"
   ]
  },
  {
   "cell_type": "code",
   "execution_count": 65,
   "metadata": {},
   "outputs": [
    {
     "data": {
      "text/plain": [
       "Unnamed: 0                             996\n",
       "State                              Wyoming\n",
       "Abbreviation                            WY\n",
       "County                               Teton\n",
       "avg_aqi                              45.86\n",
       "Pop_Estimate                         23081\n",
       "Per capita personal income 2018     251728\n",
       "Pop_standard (1000s)                23.081\n",
       "Income_standard (1000s)            251.728\n",
       "log_aqi                            3.82559\n",
       "log_income                         12.4361\n",
       "log_pop                            10.0468\n",
       "Name: 996, dtype: object"
      ]
     },
     "execution_count": 65,
     "metadata": {},
     "output_type": "execute_result"
    }
   ],
   "source": [
    "combined.loc[combined[\"Per capita personal income 2018\"].idxmax()]"
   ]
  },
  {
   "cell_type": "markdown",
   "metadata": {},
   "source": [
    "Our results from the calculating the max of our other variables make more sense: San Bernardino has a high AQI historically because wind blows polutants into the area. New York City is very highly populated, and Teton, Wyoming is now a region that billionares move to."
   ]
  },
  {
   "cell_type": "code",
   "execution_count": 146,
   "metadata": {},
   "outputs": [
    {
     "name": "stdout",
     "output_type": "stream",
     "text": [
      "The mean of the average air quality index is 38.426347124116994\n",
      "The mean population estimate is 321837.54793138243\n",
      "The mean per capita personal income is 48464.06659939455\n"
     ]
    }
   ],
   "source": [
    "mean_aqi = np.mean(combined[\"avg_aqi\"])\n",
    "print('The mean of the average air quality index is', mean_aqi)\n",
    "\n",
    "combined[\"Pop_Estimate\"] = combined[\"Pop_Estimate\"].str.replace(\",\", \"\")\n",
    "#combined[\"Pop_Estimate\"][0]\n",
    "combined[\"Pop_Estimate\"] = pd.to_numeric(combined[\"Pop_Estimate\"])\n",
    "#combined[\"Pop_Estimate\"][0]\n",
    "mean_pop_est = np.mean(combined[\"Pop_Estimate\"])\n",
    "print('The mean population estimate is', mean_pop_est)\n",
    "combined[\"Per capita personal income 2018\"] = combined[\"Per capita personal income 2018\"].str.replace(\",\", \"\")\n",
    "combined[\"Per capita personal income 2018\"] = pd.to_numeric(combined[\"Per capita personal income 2018\"])\n",
    "mean_income = np.mean(combined[\"Per capita personal income 2018\"])\n",
    "print('The mean per capita personal income is', mean_income)"
   ]
  },
  {
   "cell_type": "markdown",
   "metadata": {},
   "source": [
    "When trying to calculate the mean of population estimate and per capita personal income 2018 above, we discovered that the values in were strings and the commas were creating errors when trying to conver the values to integers. We tackled this error using the code in the comments above."
   ]
  },
  {
   "cell_type": "code",
   "execution_count": 147,
   "metadata": {},
   "outputs": [
    {
     "name": "stdout",
     "output_type": "stream",
     "text": [
      "The standard deviation of AQI is 11.571909931892648\n",
      "The standard deviation of population is 1059231.293178135\n",
      "The standard deviation of income is 16273.736656852778\n"
     ]
    }
   ],
   "source": [
    "std_aqi = np.std(combined[\"avg_aqi\"])\n",
    "std_pop = np.std(combined[\"Pop_Estimate\"])\n",
    "std_inc = np.std(combined[\"Per capita personal income 2018\"])\n",
    "print(\"The standard deviation of AQI is\", std_aqi)\n",
    "print(\"The standard deviation of population is\", std_pop)\n",
    "print(\"The standard deviation of income is\", std_inc)"
   ]
  },
  {
   "cell_type": "code",
   "execution_count": 148,
   "metadata": {},
   "outputs": [
    {
     "data": {
      "image/png": "[encoded data removed]",
      "text/plain": [
       "<Figure size 432x288 with 1 Axes>"
      ]
     },
     "metadata": {
      "needs_background": "light"
     },
     "output_type": "display_data"
    }
   ],
   "source": [
    "#histogram\n",
    "plt.hist(combined[\"avg_aqi\"], bins = 30)\n",
    "plt.title('The histogram of average AQI')\n",
    "plt.show()"
   ]
  },
  {
   "cell_type": "markdown",
   "metadata": {},
   "source": [
    "The histogram of the AQI shows us a distribution that looks approximatley like a normal distribution, however it is concentrated around its mean of 39. This is probably due to the high standard deviation of 12.18."
   ]
  },
  {
   "cell_type": "code",
   "execution_count": 149,
   "metadata": {},
   "outputs": [
    {
     "data": {
      "image/png": "[encoded data removed]",
      "text/plain": [
       "<Figure size 432x288 with 1 Axes>"
      ]
     },
     "metadata": {
      "needs_background": "light"
     },
     "output_type": "display_data"
    }
   ],
   "source": [
    "plt.hist(combined[\"Pop_Estimate\"], bins = 30)\n",
    "plt.title('The histogram of the Population')\n",
    "plt.show()"
   ]
  },
  {
   "cell_type": "markdown",
   "metadata": {},
   "source": [
    "From the histogram of the population we can see there are two outliers which means there are two cities whose population is much larger than the mean population. It is highly right skewed. The next histogram is if these two cities are removed."
   ]
  },
  {
   "cell_type": "code",
   "execution_count": 150,
   "metadata": {},
   "outputs": [
    {
     "data": {
      "image/png": "[encoded data removed]",
      "text/plain": [
       "<Figure size 432x288 with 1 Axes>"
      ]
     },
     "metadata": {
      "needs_background": "light"
     },
     "output_type": "display_data"
    }
   ],
   "source": [
    "popnoout = combined.loc[combined[\"Pop_Estimate\"] < max(combined[\"Pop_Estimate\"])]\n",
    "popnoout2 = popnoout.loc[popnoout[\"Pop_Estimate\"] < max(popnoout[\"Pop_Estimate\"])]\n",
    "plt.hist(popnoout2[\"Pop_Estimate\"], bins = 30)\n",
    "plt.title('The histogram of the Population without Outlier')\n",
    "plt.show()"
   ]
  },
  {
   "cell_type": "markdown",
   "metadata": {},
   "source": [
    "Taking out the two outliers we see that the populations are still highly right skewed. This is probably because there are many more smaller (probably) rural cities than there are larger and overpopulated cities. So even though there is an average of about 324117 people for the cities there are a handful of cities that are much larger than this. "
   ]
  },
  {
   "cell_type": "code",
   "execution_count": 151,
   "metadata": {},
   "outputs": [
    {
     "data": {
      "image/png": "[encoded data removed]",
      "text/plain": [
       "<Figure size 432x288 with 1 Axes>"
      ]
     },
     "metadata": {
      "needs_background": "light"
     },
     "output_type": "display_data"
    }
   ],
   "source": [
    "plt.hist(combined[\"Per capita personal income 2018\"], bins = 30)\n",
    "plt.title('The histogram of the Income')\n",
    "plt.show()"
   ]
  },
  {
   "cell_type": "markdown",
   "metadata": {},
   "source": [
    "The above histogram of the personal income is also right skewed as there seems to be two or three cities that have a much higher income than the average of about 48472."
   ]
  },
  {
   "cell_type": "code",
   "execution_count": 152,
   "metadata": {},
   "outputs": [
    {
     "data": {
      "image/png": "[encoded data removed]",
      "text/plain": [
       "<Figure size 432x288 with 1 Axes>"
      ]
     },
     "metadata": {
      "needs_background": "light"
     },
     "output_type": "display_data"
    }
   ],
   "source": [
    "#scatter plot of AQI and population \n",
    "plt.scatter(combined[\"Pop_Estimate\"], combined[\"avg_aqi\"])\n",
    "plt.xlabel('Population estimate')\n",
    "plt.ylabel('Average AQI')\n",
    "plt.title('The scatter plot of population estimation and average AQI')\n",
    "plt.show()"
   ]
  },
  {
   "cell_type": "markdown",
   "metadata": {},
   "source": [
    "There does not seem to be much of a relationship between population estimate and the average AQI. Most of the data points for average AQI are clustered around an average AQI of 50. There appears to be an outlier as well. "
   ]
  },
  {
   "cell_type": "code",
   "execution_count": 153,
   "metadata": {
    "scrolled": true
   },
   "outputs": [
    {
     "data": {
      "image/png": "[encoded data removed]",
      "text/plain": [
       "<Figure size 432x288 with 1 Axes>"
      ]
     },
     "metadata": {
      "needs_background": "light"
     },
     "output_type": "display_data"
    }
   ],
   "source": [
    "#scatter plot of AQI and income\n",
    "plt.scatter(combined[\"Per capita personal income 2018\"], combined[\"avg_aqi\"])\n",
    "plt.xlabel('Per capita income')\n",
    "plt.ylabel('Average AQI')\n",
    "plt.title('The scatter plot of per capita income and average AQI')\n",
    "plt.show()"
   ]
  },
  {
   "cell_type": "markdown",
   "metadata": {},
   "source": [
    "The above scatter plot shows that it might be worthwhile exploring the relationship with Average AQI in the x-axis"
   ]
  },
  {
   "cell_type": "code",
   "execution_count": 154,
   "metadata": {},
   "outputs": [
    {
     "data": {
      "image/png": "[encoded data removed]",
      "text/plain": [
       "<Figure size 432x288 with 1 Axes>"
      ]
     },
     "metadata": {
      "needs_background": "light"
     },
     "output_type": "display_data"
    }
   ],
   "source": [
    "#scatter plot of income and AQI --> might not be necessary\n",
    "plt.scatter(combined[\"avg_aqi\"], combined[\"Per capita personal income 2018\"])\n",
    "plt.ylabel('Per capita income')\n",
    "plt.xlabel('Average AQI')\n",
    "plt.title('The scatter plot of average AQI and per capita income')\n",
    "plt.show()"
   ]
  },
  {
   "cell_type": "markdown",
   "metadata": {},
   "source": [
    "From both the scatter plots, it seems that most counties have a per capita income randing from USD 20,000 till almost 100,000 with a few outliers either way. Most counties seem to be concentrated in the 30-60 AQI range, which is from the good to the moderate range."
   ]
  },
  {
   "cell_type": "code",
   "execution_count": 155,
   "metadata": {},
   "outputs": [
    {
     "data": {
      "image/png": "[encoded data removed]",
      "text/plain": [
       "<Figure size 432x288 with 1 Axes>"
      ]
     },
     "metadata": {
      "needs_background": "light"
     },
     "output_type": "display_data"
    }
   ],
   "source": [
    "#scatter plot of population and income\n",
    "plt.scatter(combined[\"Pop_Estimate\"], combined[\"Per capita personal income 2018\"])\n",
    "#plt.xlim(0, 5000000)\n",
    "plt.ylabel('Per capita income')\n",
    "plt.xlabel('Population')\n",
    "plt.title('The scatter plot of population and per capita income')\n",
    "plt.show()"
   ]
  },
  {
   "cell_type": "code",
   "execution_count": 156,
   "metadata": {},
   "outputs": [
    {
     "data": {
      "image/png": "[encoded data removed]",
      "text/plain": [
       "<Figure size 432x288 with 1 Axes>"
      ]
     },
     "metadata": {
      "needs_background": "light"
     },
     "output_type": "display_data"
    }
   ],
   "source": [
    "#scatter plot of income and population\n",
    "plt.scatter(combined[\"Per capita personal income 2018\"], combined[\"Pop_Estimate\"])\n",
    "#plt.xlim(0, 5000000)\n",
    "plt.xlabel('Per capita income')\n",
    "plt.ylabel('Population')\n",
    "plt.title('The scatter plot of per capita income and population')\n",
    "plt.show()"
   ]
  },
  {
   "cell_type": "markdown",
   "metadata": {},
   "source": [
    "# Single Variable Linear Models #need to do t-tests for each coefficient and evaluate its significance"
   ]
  },
  {
   "cell_type": "markdown",
   "metadata": {},
   "source": [
    "Before proceeding with our data analysis any futher, we realized that the orders of magnitude of our variables are vastly different, which could result in skewed results from our models. Hence, before comparing any two variables together, we added additional columns to our data frame to scale our values so that population and income were in the same scale as AQI index, in order for ease of comparison."
   ]
  },
  {
   "cell_type": "code",
   "execution_count": 157,
   "metadata": {},
   "outputs": [
    {
     "data": {
      "text/html": [
       "<div>\n",
       "<style scoped>\n",
       "    .dataframe tbody tr th:only-of-type {\n",
       "        vertical-align: middle;\n",
       "    }\n",
       "\n",
       "    .dataframe tbody tr th {\n",
       "        vertical-align: top;\n",
       "    }\n",
       "\n",
       "    .dataframe thead th {\n",
       "        text-align: right;\n",
       "    }\n",
       "</style>\n",
       "<table border=\"1\" class=\"dataframe\">\n",
       "  <thead>\n",
       "    <tr style=\"text-align: right;\">\n",
       "      <th></th>\n",
       "      <th>State</th>\n",
       "      <th>Abbreviation</th>\n",
       "      <th>County</th>\n",
       "      <th>avg_aqi</th>\n",
       "      <th>Pop_Estimate</th>\n",
       "      <th>Per capita personal income 2018</th>\n",
       "      <th>Pop_standard (1000s)</th>\n",
       "      <th>Income_standard (1000s)</th>\n",
       "    </tr>\n",
       "  </thead>\n",
       "  <tbody>\n",
       "    <tr>\n",
       "      <th>0</th>\n",
       "      <td>Alabama</td>\n",
       "      <td>AL</td>\n",
       "      <td>Baldwin</td>\n",
       "      <td>36.83</td>\n",
       "      <td>218022</td>\n",
       "      <td>45596</td>\n",
       "      <td>218.022</td>\n",
       "      <td>45.596</td>\n",
       "    </tr>\n",
       "    <tr>\n",
       "      <th>1</th>\n",
       "      <td>Alabama</td>\n",
       "      <td>AL</td>\n",
       "      <td>Clay</td>\n",
       "      <td>28.99</td>\n",
       "      <td>13275</td>\n",
       "      <td>33530</td>\n",
       "      <td>13.275</td>\n",
       "      <td>33.530</td>\n",
       "    </tr>\n",
       "    <tr>\n",
       "      <th>2</th>\n",
       "      <td>Alabama</td>\n",
       "      <td>AL</td>\n",
       "      <td>Colbert</td>\n",
       "      <td>35.64</td>\n",
       "      <td>54762</td>\n",
       "      <td>38378</td>\n",
       "      <td>54.762</td>\n",
       "      <td>38.378</td>\n",
       "    </tr>\n",
       "    <tr>\n",
       "      <th>3</th>\n",
       "      <td>Alabama</td>\n",
       "      <td>AL</td>\n",
       "      <td>DeKalb</td>\n",
       "      <td>36.72</td>\n",
       "      <td>71385</td>\n",
       "      <td>31916</td>\n",
       "      <td>71.385</td>\n",
       "      <td>31.916</td>\n",
       "    </tr>\n",
       "    <tr>\n",
       "      <th>4</th>\n",
       "      <td>Alabama</td>\n",
       "      <td>AL</td>\n",
       "      <td>Elmore</td>\n",
       "      <td>35.33</td>\n",
       "      <td>81887</td>\n",
       "      <td>42269</td>\n",
       "      <td>81.887</td>\n",
       "      <td>42.269</td>\n",
       "    </tr>\n",
       "  </tbody>\n",
       "</table>\n",
       "</div>"
      ],
      "text/plain": [
       "     State Abbreviation   County  avg_aqi  Pop_Estimate  \\\n",
       "0  Alabama           AL  Baldwin    36.83        218022   \n",
       "1  Alabama           AL     Clay    28.99         13275   \n",
       "2  Alabama           AL  Colbert    35.64         54762   \n",
       "3  Alabama           AL   DeKalb    36.72         71385   \n",
       "4  Alabama           AL   Elmore    35.33         81887   \n",
       "\n",
       "   Per capita personal income 2018  Pop_standard (1000s)  \\\n",
       "0                            45596               218.022   \n",
       "1                            33530                13.275   \n",
       "2                            38378                54.762   \n",
       "3                            31916                71.385   \n",
       "4                            42269                81.887   \n",
       "\n",
       "   Income_standard (1000s)  \n",
       "0                   45.596  \n",
       "1                   33.530  \n",
       "2                   38.378  \n",
       "3                   31.916  \n",
       "4                   42.269  "
      ]
     },
     "execution_count": 157,
     "metadata": {},
     "output_type": "execute_result"
    }
   ],
   "source": [
    "#creating a standardized population column\n",
    "Pop_standard = combined[\"Pop_Estimate\"]/1000\n",
    "combined.loc[:, \"Pop_standard (1000s)\"] = Pop_standard\n",
    "\n",
    "#creating a standardized income column\n",
    "Income_standard = combined[\"Per capita personal income 2018\"]/1000\n",
    "combined.loc[:, \"Income_standard (1000s)\"] = Income_standard\n",
    "combined.head()"
   ]
  },
  {
   "cell_type": "markdown",
   "metadata": {},
   "source": [
    "From now on, we will use the standardized population standardized and income standardized values in order to make the analysis and interpretations from calculations more accurate. "
   ]
  },
  {
   "cell_type": "markdown",
   "metadata": {},
   "source": [
    "We first created a model that has the y-variable as the average AQI, and the x-variable as the per capita personal income in 2018. The results are below:"
   ]
  },
  {
   "cell_type": "code",
   "execution_count": 158,
   "metadata": {},
   "outputs": [
    {
     "name": "stdout",
     "output_type": "stream",
     "text": [
      "The coefficient of per capita personal income on average AQI is 0.0890760848491252\n",
      "The intercept of the linear regression is 34.10935781557573\n",
      "The R^2 score is 0.015692304217857278\n",
      "The covariance of AQI and income is 23.614249526353348\n"
     ]
    }
   ],
   "source": [
    "#regression model 1: Y = AQI, X = Income\n",
    "aqi_income = LinearRegression().fit(combined[[\"Income_standard (1000s)\"]], combined[\"avg_aqi\"])\n",
    "print(\"The coefficient of per capita personal income on average AQI is\", aqi_income.coef_[0])\n",
    "print(\"The intercept of the linear regression is\", aqi_income.intercept_)\n",
    "print(\"The R^2 score is\", aqi_income.score(combined[[\"Income_standard (1000s)\"]], combined[\"avg_aqi\"]))\n",
    "print(\"The covariance of AQI and income is\", np.cov(combined[\"Income_standard (1000s)\"], \n",
    "                                                   combined[\"avg_aqi\"])[0,1])"
   ]
  },
  {
   "cell_type": "markdown",
   "metadata": {},
   "source": [
    "The above model shows that a linear regression is not a good fit for modelling the relationship between per capita personal income and average AQI. The slope also indicates a very slight relationship, and the intercept suggests that if a county has 0 personal income, they are likely to be in a good quality air environment. We can disregard the interpretation of an intercept here since no county in our dataset has 0 income. The covariance between average AQI and per capita personal income, however, is positive at 23.49. This is high considering income has been standardized and is in the 1000 order of magnitude. This demonstrates that there is certainly a relationship between the two variables, but not linear like we have just shown."
   ]
  },
  {
   "cell_type": "markdown",
   "metadata": {},
   "source": [
    "We now implement a two-sampled t-test to test the significance of the coefficient of income (standardized). The reason we chose to use an independent two-sampled t-test is because our samples are assumed to be unrelated unless proven otherwise. "
   ]
  },
  {
   "cell_type": "code",
   "execution_count": 159,
   "metadata": {},
   "outputs": [
    {
     "data": {
      "text/plain": [
       "Ttest_indResult(statistic=15.816332503703029, pvalue=7.743991006004521e-53)"
      ]
     },
     "execution_count": 159,
     "metadata": {},
     "output_type": "execute_result"
    }
   ],
   "source": [
    "#using scipy:\n",
    "stats.ttest_ind(combined[\"Income_standard (1000s)\"], combined[\"avg_aqi\"], equal_var = False)"
   ]
  },
  {
   "cell_type": "markdown",
   "metadata": {},
   "source": [
    "The p-value is extremely low, which shows that the standardized income's coefficient on the average AQI is significant. "
   ]
  },
  {
   "cell_type": "markdown",
   "metadata": {},
   "source": [
    "The next model we look at is switching the variables so that the y-variable is now income and the x-variable is average AQI. Although we know that the $r^2$ value will remain the same, we want to explore the relationship between AQI and income in depth by looking at the relationship through a different lens."
   ]
  },
  {
   "cell_type": "code",
   "execution_count": 160,
   "metadata": {},
   "outputs": [
    {
     "name": "stdout",
     "output_type": "stream",
     "text": [
      "The coefficient of average AQI on per capita personal income is 0.176167421866783\n",
      "The intercept of the linear regression is 41.69459609478078\n",
      "The R^2 score is 0.01569230421785739\n",
      "The covariance of AQI and income is 23.614249526353348\n"
     ]
    }
   ],
   "source": [
    "#regression model 2: Y = Income, X = AQI\n",
    "income_aqi = LinearRegression().fit(combined[[\"avg_aqi\"]], combined[\"Income_standard (1000s)\"])\n",
    "print(\"The coefficient of average AQI on per capita personal income is\", income_aqi.coef_[0])\n",
    "print(\"The intercept of the linear regression is\", income_aqi.intercept_)\n",
    "print(\"The R^2 score is\", income_aqi.score(combined[[\"avg_aqi\"]], combined[\"Income_standard (1000s)\"]))\n",
    "print(\"The covariance of AQI and income is\", np.cov(combined[\"avg_aqi\"], \n",
    "                                                   combined[\"Income_standard (1000s)\"])[0,1])"
   ]
  },
  {
   "cell_type": "markdown",
   "metadata": {},
   "source": [
    "When modifying the regression to include average AQI as X and AQI as Y, we found a larger slope which shows that AQI has a larger impact on per capita personal income than the other way around. However, the $r^2$ value is the same across both regressions, showing that a linear model is not a good fit for modelling the relationship. The covariance is the same as the previous regression too. "
   ]
  },
  {
   "cell_type": "markdown",
   "metadata": {},
   "source": [
    "The third regression we look at is the y-variable as AQI and the x-variable as population. The results are as below:"
   ]
  },
  {
   "cell_type": "code",
   "execution_count": 161,
   "metadata": {},
   "outputs": [
    {
     "name": "stdout",
     "output_type": "stream",
     "text": [
      "The coefficient of population on average AQI is 0.0025291093262856425\n",
      "The intercept of the linear regression is 37.61238478009489\n",
      "The R^2 score is 0.05359283387895353\n",
      "The covariance of population and AQI is 2840.4533987207187\n"
     ]
    }
   ],
   "source": [
    "#Regression model 3: Y = AQI , X = Population \n",
    "population_aqi = LinearRegression().fit(combined[[\"Pop_standard (1000s)\"]], combined[\"avg_aqi\"])\n",
    "print(\"The coefficient of population on average AQI is\", population_aqi.coef_[0])\n",
    "print(\"The intercept of the linear regression is\", population_aqi.intercept_)\n",
    "print(\"The R^2 score is\", population_aqi.score(combined[[\"Pop_standard (1000s)\"]], combined[\"avg_aqi\"]))\n",
    "print(\"The covariance of population and AQI is\", np.cov(combined[\"Pop_standard (1000s)\"], \n",
    "                                                   combined[\"avg_aqi\"])[0,1])"
   ]
  },
  {
   "cell_type": "markdown",
   "metadata": {},
   "source": [
    "The above model can be interpreted by looking at the $r^2$ value, which shows the strength of the proposed model. This model looks at the relationship between population on AQI index, to see if population has any sort of effect on the average AQI index. The $r^2$ is extremely low, showing that this model is ineffective and the model is not a good fit. The covariance is a pretty high number, this demonstrates that there is certainly a relationship between the two variables, but not linear like we have just shown. The coefficient on the population variable is extremely small, which indicates that there is a very negligible impact of population alone on average AQI."
   ]
  },
  {
   "cell_type": "markdown",
   "metadata": {},
   "source": [
    "The fourth regression model below is, again, switching the x and y-variables in order to investigate the relationship between the pair of variables in depth. The y-variable is now population and the x-variable is AQI. "
   ]
  },
  {
   "cell_type": "code",
   "execution_count": 162,
   "metadata": {},
   "outputs": [
    {
     "name": "stdout",
     "output_type": "stream",
     "text": [
      "The coefficient of average AQI on population is 21.190398264697446\n",
      "The intercept of the linear regression is -492.43205148616914\n",
      "The R^2 score is 0.053592833878953194\n",
      "The covariance of average AQI and population is 2840.4533987207187\n"
     ]
    }
   ],
   "source": [
    "#Regression model 4: Y = Population , X = AQI\n",
    "aqi_population = LinearRegression().fit(combined[[\"avg_aqi\"]], combined[\"Pop_standard (1000s)\"])\n",
    "print(\"The coefficient of average AQI on population is\", aqi_population.coef_[0])\n",
    "print(\"The intercept of the linear regression is\", aqi_population.intercept_)\n",
    "print(\"The R^2 score is\", aqi_population.score(combined[[\"avg_aqi\"]], combined[\"Pop_standard (1000s)\"]))\n",
    "print(\"The covariance of average AQI and population is\", np.cov(combined[\"avg_aqi\"], \n",
    "                                                   combined[\"Pop_standard (1000s)\"])[0,1])"
   ]
  },
  {
   "cell_type": "markdown",
   "metadata": {},
   "source": [
    "Here, we get again get the same positive $r^2$ value as in regression 3 as well as the same covariance. This means that the model is not a good fit either, which we expected based on our calculation above, but there is still a relationship. Indeed, the coefficient on the AQI variable shows us that there seems to be a big effect of AQI on population. "
   ]
  },
  {
   "cell_type": "markdown",
   "metadata": {},
   "source": [
    "The fifth single-variable regression model we will analyze is with the y-variable as income and the x-variable as population. The results are below:"
   ]
  },
  {
   "cell_type": "code",
   "execution_count": 163,
   "metadata": {},
   "outputs": [
    {
     "name": "stdout",
     "output_type": "stream",
     "text": [
      "The coefficient of population on income is 0.004780366383297414\n",
      "The intercept of the linear regression is 46.9255652043805\n",
      "The R^2 score is 0.09681204746283711\n",
      "The covariance of population size and income is 5368.849736721047\n"
     ]
    }
   ],
   "source": [
    "#Regression model 5: Y = Income , X = Population\n",
    "population_income = LinearRegression().fit(combined[[\"Pop_standard (1000s)\"]], combined[\"Income_standard (1000s)\"])\n",
    "print(\"The coefficient of population on income is\", population_income.coef_[0])\n",
    "print(\"The intercept of the linear regression is\", population_income.intercept_)\n",
    "print(\"The R^2 score is\", population_income.score(combined[[\"Pop_standard (1000s)\"]], combined[\"Income_standard (1000s)\"]))\n",
    "print(\"The covariance of population size and income is\", np.cov(combined[\"Pop_standard (1000s)\"], \n",
    "                                                  combined[\"Income_standard (1000s)\"])[0,1])"
   ]
  },
  {
   "cell_type": "markdown",
   "metadata": {},
   "source": [
    "Once again, the $r^2$ value is extremely low, suggesting a linear regression is not a good fit. It does seem like the two variables are related since the covariance value is high, but the coefficient of population is low. "
   ]
  },
  {
   "cell_type": "markdown",
   "metadata": {},
   "source": [
    "Conducting a sixth single-variate linear regression: "
   ]
  },
  {
   "cell_type": "code",
   "execution_count": 164,
   "metadata": {},
   "outputs": [
    {
     "name": "stdout",
     "output_type": "stream",
     "text": [
      "The coefficient of income on population is 20.25201411362488\n",
      "The intercept of the linear regression is -659.6574128432121\n",
      "The R^2 score is 0.096812047462837\n",
      "The covariance of population size and income is 5368.849736721047\n"
     ]
    }
   ],
   "source": [
    "#Regression model 5: Y = Income , X = Population\n",
    "income_population = LinearRegression().fit(combined[[\"Income_standard (1000s)\"]], combined[\"Pop_standard (1000s)\"])\n",
    "print(\"The coefficient of income on population is\", income_population.coef_[0])\n",
    "print(\"The intercept of the linear regression is\", income_population.intercept_)\n",
    "print(\"The R^2 score is\", income_population.score(combined[[\"Income_standard (1000s)\"]], combined[\"Pop_standard (1000s)\"]))\n",
    "print(\"The covariance of population size and income is\", np.cov(combined[\"Income_standard (1000s)\"], \n",
    "                                                  combined[\"Pop_standard (1000s)\"])[0,1])"
   ]
  },
  {
   "cell_type": "markdown",
   "metadata": {},
   "source": [
    "The analysis is same as the fifth linear regression, however the coefficient of income on population is higher than the coefficient of population on income. "
   ]
  },
  {
   "cell_type": "markdown",
   "metadata": {},
   "source": [
    "# Multivariate Linear Models"
   ]
  },
  {
   "cell_type": "markdown",
   "metadata": {},
   "source": [
    "Now, we will look at the effect of two predictor variables one the one response variable (multiple regression) to see if our findings change significantly from the single-variate regressions."
   ]
  },
  {
   "cell_type": "code",
   "execution_count": 165,
   "metadata": {},
   "outputs": [
    {
     "name": "stdout",
     "output_type": "stream",
     "text": [
      "The coefficient of population on aqi is  0.0023287434235684116\n",
      "The coefficient of income on aqi is  0.04191434016800664\n",
      "The intercept of the linear regression is 35.64553067754251\n",
      "The R^2 score is 0.05673094184835481\n"
     ]
    }
   ],
   "source": [
    "#Multiple Regression model 1: Y = AQI index, X = Population estimate and income (\"Per capita personal income 2018\")\n",
    "popandincome_aqi = LinearRegression().fit(combined[[\"Pop_standard (1000s)\",\"Income_standard (1000s)\"]], combined[\"avg_aqi\"])\n",
    "print(\"The coefficient of population on aqi is \", popandincome_aqi.coef_[0])\n",
    "print(\"The coefficient of income on aqi is \", popandincome_aqi.coef_[1])\n",
    "print(\"The intercept of the linear regression is\", popandincome_aqi.intercept_)\n",
    "print(\"The R^2 score is\", popandincome_aqi.score(combined[[\"Pop_standard (1000s)\",\"Income_standard (1000s)\"]], combined[\"avg_aqi\"]))\n"
   ]
  },
  {
   "cell_type": "code",
   "execution_count": 166,
   "metadata": {},
   "outputs": [
    {
     "name": "stdout",
     "output_type": "stream",
     "text": [
      "The coefficient of population on income is  0.004580290459372966\n",
      "The coefficient of AQI on income is  0.07910924286467577\n",
      "The intercept of the linear regression is 43.95007792209233\n",
      "The R^2 score is 0.09980684865748668\n"
     ]
    }
   ],
   "source": [
    "#Multiple Regression model 2: Y = Income, X = Population estimate and AQI index\n",
    "popandaqi_income = LinearRegression().fit(combined[[\"Pop_standard (1000s)\",\"avg_aqi\"]], combined[\"Income_standard (1000s)\"])\n",
    "print(\"The coefficient of population on income is \", popandaqi_income.coef_[0])\n",
    "print(\"The coefficient of AQI on income is \", popandaqi_income.coef_[1])\n",
    "print(\"The intercept of the linear regression is\", popandaqi_income.intercept_)\n",
    "print(\"The R^2 score is\", popandaqi_income.score(combined[[\"Pop_standard (1000s)\",\"avg_aqi\"]], combined[\"Income_standard (1000s)\"]))\n"
   ]
  },
  {
   "cell_type": "code",
   "execution_count": 167,
   "metadata": {},
   "outputs": [
    {
     "name": "stdout",
     "output_type": "stream",
     "text": [
      "The coefficient of income on population is  18.657231350019387\n",
      "The coefficient of AQI on population is  17.903601918592415\n",
      "The intercept of the linear regression is -1270.337776872109\n",
      "The R^2 score is 0.1344685681374529\n"
     ]
    }
   ],
   "source": [
    "# Multiple Regression model 3: Y = Population Estimate, X = Income and AQI Index\n",
    "incomeandaqi_pop = LinearRegression().fit(combined[[\"Income_standard (1000s)\",\"avg_aqi\"]], combined[\"Pop_standard (1000s)\"])\n",
    "print(\"The coefficient of income on population is \", incomeandaqi_pop.coef_[0])\n",
    "print(\"The coefficient of AQI on population is \", incomeandaqi_pop.coef_[1])\n",
    "print(\"The intercept of the linear regression is\", incomeandaqi_pop.intercept_)\n",
    "print(\"The R^2 score is\", incomeandaqi_pop.score(combined[[\"Income_standard (1000s)\",\"avg_aqi\"]], combined[\"Pop_standard (1000s)\"]))"
   ]
  },
  {
   "cell_type": "markdown",
   "metadata": {},
   "source": [
    "The $r^2$ has improved since the last few multivariate regressions, although we still do not see a good reason to believe that a linear model is an appropriate fit for our data, as the $r^2$ is close to 0. The coefficients of income and AQI on population seem to be larger than the coefficients from the other regressions. We now conduct a t-test to test whether there is a significant relationship of income and AQI index on population estimate."
   ]
  },
  {
   "cell_type": "code",
   "execution_count": 168,
   "metadata": {},
   "outputs": [],
   "source": [
    "#Conducting significance test:"
   ]
  },
  {
   "cell_type": "code",
   "execution_count": 169,
   "metadata": {},
   "outputs": [
    {
     "name": "stdout",
     "output_type": "stream",
     "text": [
      "The coefficient of population on log aqi is  5.850468976579304e-05\n",
      "The coefficient of income on log aqi is  0.002486978408824881\n",
      "The intercept of the linear regression is 3.429225789934874\n",
      "The R^2 score is 0.024990577278174997\n"
     ]
    }
   ],
   "source": [
    "#log-linear model: Y= Log of aqi, X = Population and Income \n",
    "combined[\"log_aqi\"] = np.log(combined[\"avg_aqi\"]) #logging the avg AQI values \n",
    "popandincome_logaqi = LinearRegression().fit(combined[[\"Pop_standard (1000s)\",\"Income_standard (1000s)\"]], combined[\"log_aqi\"])\n",
    "print(\"The coefficient of population on log aqi is \", popandincome_logaqi.coef_[0])\n",
    "print(\"The coefficient of income on log aqi is \", popandincome_logaqi.coef_[1])\n",
    "print(\"The intercept of the linear regression is\", popandincome_logaqi.intercept_)\n",
    "print(\"The R^2 score is\", popandincome_logaqi.score(combined[[\"Pop_standard (1000s)\",\"Income_standard (1000s)\"]], combined[\"log_aqi\"]))"
   ]
  },
  {
   "cell_type": "code",
   "execution_count": 170,
   "metadata": {},
   "outputs": [
    {
     "data": {
      "image/png": "[encoded data removed]",
      "text/plain": [
       "<Figure size 432x288 with 1 Axes>"
      ]
     },
     "metadata": {
      "needs_background": "light"
     },
     "output_type": "display_data"
    }
   ],
   "source": [
    "#scatter plot of income and log AQI\n",
    "plt.scatter(combined[\"log_aqi\"], combined[\"Income_standard (1000s)\"])\n",
    "plt.xlabel('Per capita income')\n",
    "plt.ylabel('log AQI')\n",
    "plt.title('The scatter plot of per capita income and log aqi')\n",
    "plt.show()"
   ]
  },
  {
   "cell_type": "code",
   "execution_count": 171,
   "metadata": {},
   "outputs": [
    {
     "data": {
      "image/png": "[encoded data removed]",
      "text/plain": [
       "<Figure size 432x288 with 1 Axes>"
      ]
     },
     "metadata": {
      "needs_background": "light"
     },
     "output_type": "display_data"
    }
   ],
   "source": [
    "#scatter plot of population and log AQI\n",
    "plt.scatter(combined[\"log_aqi\"], combined[\"Pop_standard (1000s)\"])\n",
    "plt.xlabel('Population estimate')\n",
    "plt.ylabel('log AQI')\n",
    "plt.title('The scatter plot of population and log aqi')\n",
    "plt.show()"
   ]
  },
  {
   "cell_type": "code",
   "execution_count": 172,
   "metadata": {},
   "outputs": [
    {
     "name": "stdout",
     "output_type": "stream",
     "text": [
      "The coefficient of population on log aqi is  0.0007991003843517729\n",
      "The coefficient of income on log aqi is  0.014624667328513367\n",
      "The intercept of the linear regression is 10.012070649769246\n",
      "The R^2 score is 0.8920954814131545\n"
     ]
    }
   ],
   "source": [
    "#log-linear model: Y= Log of income, X = population and AQI\n",
    "combined[\"log_income\"] = np.log(combined[\"Per capita personal income 2018\"]) #logging the income values \n",
    "popandaqi_logincome = LinearRegression().fit(combined[[\"avg_aqi\",\"Income_standard (1000s)\"]], combined[\"log_income\"])\n",
    "print(\"The coefficient of population on log aqi is \", popandaqi_logincome.coef_[0])\n",
    "print(\"The coefficient of income on log aqi is \", popandaqi_logincome.coef_[1])\n",
    "print(\"The intercept of the linear regression is\", popandaqi_logincome.intercept_)\n",
    "print(\"The R^2 score is\", popandaqi_logincome.score(combined[[\"avg_aqi\",\"Income_standard (1000s)\"]], combined[\"log_income\"]))"
   ]
  },
  {
   "cell_type": "code",
   "execution_count": 173,
   "metadata": {},
   "outputs": [
    {
     "data": {
      "image/png": "[encoded data removed]",
      "text/plain": [
       "<Figure size 432x288 with 1 Axes>"
      ]
     },
     "metadata": {
      "needs_background": "light"
     },
     "output_type": "display_data"
    }
   ],
   "source": [
    "#Scatter plot of log income and avg AQI\n",
    "plt.scatter(combined[\"log_income\"], combined[\"avg_aqi\"])\n",
    "plt.xlabel('avg AQI')\n",
    "plt.ylabel('log income')\n",
    "plt.title('The scatter plot of avg AQI and log income')\n",
    "plt.show()"
   ]
  },
  {
   "cell_type": "code",
   "execution_count": 174,
   "metadata": {},
   "outputs": [
    {
     "data": {
      "image/png": "[encoded data removed]",
      "text/plain": [
       "<Figure size 432x288 with 1 Axes>"
      ]
     },
     "metadata": {
      "needs_background": "light"
     },
     "output_type": "display_data"
    }
   ],
   "source": [
    "#Scatter plot of log income and population\n",
    "plt.scatter(combined[\"Pop_standard (1000s)\"], combined[\"log_income\"])\n",
    "plt.xlabel('Pop_standard (1000s)')\n",
    "plt.ylabel('log income')\n",
    "plt.title('The scatter plot of population and log income')\n",
    "plt.show()"
   ]
  },
  {
   "cell_type": "code",
   "execution_count": 175,
   "metadata": {},
   "outputs": [
    {
     "name": "stdout",
     "output_type": "stream",
     "text": [
      "The coefficient of population on log aqi is  0.02583086380448794\n",
      "The coefficient of income on log aqi is  0.04892038723199434\n",
      "The intercept of the linear regression is 8.343977317146496\n",
      "The R^2 score is 0.13586104313494896\n"
     ]
    }
   ],
   "source": [
    "#log-linear model: Y= Log population, X = AQI and Income \n",
    "combined[\"log_pop\"] = np.log(combined[\"Pop_Estimate\"]) #logging the avg AQI values \n",
    "incomeandaqi_logpop = LinearRegression().fit(combined[[\"Income_standard (1000s)\",\"avg_aqi\"]], combined[\"log_pop\"])\n",
    "print(\"The coefficient of population on log aqi is \", incomeandaqi_logpop.coef_[0])\n",
    "print(\"The coefficient of income on log aqi is \", incomeandaqi_logpop.coef_[1])\n",
    "print(\"The intercept of the linear regression is\", incomeandaqi_logpop.intercept_)\n",
    "print(\"The R^2 score is\", incomeandaqi_logpop.score(combined[[\"avg_aqi\",\"Income_standard (1000s)\"]], combined[\"log_pop\"]))"
   ]
  },
  {
   "cell_type": "code",
   "execution_count": 176,
   "metadata": {
    "scrolled": true
   },
   "outputs": [
    {
     "data": {
      "image/png": "[encoded data removed]",
      "text/plain": [
       "<Figure size 432x288 with 1 Axes>"
      ]
     },
     "metadata": {
      "needs_background": "light"
     },
     "output_type": "display_data"
    }
   ],
   "source": [
    "#Scatter plot of log population and income\n",
    "plt.scatter(combined[\"Income_standard (1000s)\"], combined[\"log_pop\"])\n",
    "plt.xlabel('Income_standard (1000s)')\n",
    "plt.ylabel('log population')\n",
    "plt.title('The scatter plot of income and log population')\n",
    "plt.show()"
   ]
  },
  {
   "cell_type": "code",
   "execution_count": 177,
   "metadata": {},
   "outputs": [
    {
     "data": {
      "image/png": "[encoded data removed]",
      "text/plain": [
       "<Figure size 432x288 with 1 Axes>"
      ]
     },
     "metadata": {
      "needs_background": "light"
     },
     "output_type": "display_data"
    }
   ],
   "source": [
    "#Scatter plot of log population and avg AQI\n",
    "plt.scatter(combined[\"avg_aqi\"], combined[\"log_pop\"])\n",
    "plt.xlabel('Average AQI')\n",
    "plt.ylabel('log population')\n",
    "plt.title('The scatter plot of average AQI and log population')\n",
    "plt.show()"
   ]
  },
  {
   "cell_type": "markdown",
   "metadata": {},
   "source": [
    "# Evaluation of Significance "
   ]
  },
  {
   "cell_type": "code",
   "execution_count": 198,
   "metadata": {},
   "outputs": [
    {
     "name": "stdout",
     "output_type": "stream",
     "text": [
      "Spearman correlation between the population and income: 0.4294\n",
      "Spearman correlation between the population and aqi 0.3865\n",
      "Spearman correlation between the aqi and income 0.2332\n"
     ]
    }
   ],
   "source": [
    "#Multivariate linear models significance tests \n",
    "from scipy.stats import spearmanr\n",
    "rho, pval = spearmanr(combined[\"Pop_Estimate\"], combined[\"Per capita personal income 2018\"])\n",
    "print('Spearman correlation between the population and income: {:.4f}'.format(rho))\n",
    "rho2, pval2 = spearmanr(combined[\"avg_aqi\"], combined[\"Pop_Estimate\"])\n",
    "print('Spearman correlation between the population and aqi {:.4f}'.format(rho2))\n",
    "rho3, pval3 = spearmanr(combined[\"avg_aqi\"], combined[\"Per capita personal income 2018\"])\n",
    "print('Spearman correlation between the aqi and income {:.4f}'.format(rho3))"
   ]
  },
  {
   "cell_type": "markdown",
   "metadata": {},
   "source": [
    "From documentation we have that \"the Spearman rank-order correlation coefficient is a nonparametric measure of the monotonicity of the relationship between two datasets\" and therefor since the correlations between all the varaiblees is between -1 and 1 and none are 0 we know that all them are positively correlation with one another. "
   ]
  },
  {
   "cell_type": "code",
   "execution_count": 231,
   "metadata": {},
   "outputs": [],
   "source": [
    "#Attempt of clustring\n",
    "#from sklearn.cluster import KMeans\n",
    "#clustering = KMeans(n_clusters=5)\n",
    "#combined[\"log_income\"], combined[\"avg_aqi\"]\n",
    "#points = combined[[\"log_income\", \"avg_aqi\"]].to_numpy()\n",
    "#clustering.fit(points)\n",
    "\n",
    "#centers = clustering.cluster_centers_\n",
    "#labels = clustering.labels_\n",
    "\n",
    "#plt.scatter(points[:,0], points[:,1], c = labels)\n",
    "#plt.show()"
   ]
  },
  {
   "cell_type": "markdown",
   "metadata": {},
   "source": [
    "# Conclusion"
   ]
  },
  {
   "cell_type": "markdown",
   "metadata": {},
   "source": [
    "Our team conducted various linear and multiple regressions and significance tests to determine if there is any significant relationship between the three variables. First, through the summary statistics and visuals, we can see that average AQI of the counties in the U.S. had a distribution closest to a normal distribution. The other two were heavily skewed right. We kept this in mind going through the rest of the analysis. \n",
    "\n",
    "After conducting linear regressions amongst combinations of the variables (one predictor and one response), we noticed that the highesr r-squared value belonged to the model relating income and population. The lowest r-squared value was between income and average AQI. We further conducted a t-test on these models to determine if the outcome is significant or not, and both produced p-values of approximately 0. We compared that to an alpha level of 0.05, telling us that the relationship between income-population and income-AQI is significant. \n",
    "\n",
    "We wanted to see the effect of two predictors one on response variable, to compare the r-squared values again. The highest r-squared value was noticed between population and AQI as the predictors and income as the response. This told us there is some effect of these variables on the response variable. We did a significance test to verify this, and saw TALK ABOUT WHAT YOU SAY IN THE T-TEST FOR THE MULTIPLE REGRESSION\n"
   ]
  },
  {
   "cell_type": "markdown",
   "metadata": {},
   "source": [
    "# Acknowledgements"
   ]
  },
  {
   "cell_type": "markdown",
   "metadata": {},
   "source": [
    "Our combined dataset was from these three individual datasets: \n",
    "Datasources\n",
    "Income - https://www.bea.gov/data/income-saving/personal-income-county-metro-and-other-areas\n",
    "Data on AQI - https://aqs.epa.gov/aqsweb/airdata/download_files.html#AQI\n",
    "Population estimates - https://www.ers.usda.gov/data-products/county-level-data-sets/download-data/\n",
    "\n",
    "All of their respective websites were helpful for us to understand more about the data and learn why they were collected.\n",
    "We also used a lot of Professor Mimno's lectures to guide our understanding of various topics and code used in our data analysis. Our project advisor, Shimona Agarwal, was also helpful in understanding the project requirements and ensuring our analysis is sufficient. \n",
    "\n",
    "We used these following sources for help as well: \n",
    "To convert the strings in population estimation column to numbers: https://stackoverflow.com/questions/38516481/trying-to-remove-commas-and-dollars-signs-with-pandas-in-python \n",
    "https://towardsdatascience.com/simple-and-multiple-linear-regression-with-python-c9ab422ec29c\n",
    "\n",
    "We used the following links to help with understating spearman correlations and clustering:\n",
    "https://docs.scipy.org/doc/scipy/reference/generated/scipy.stats.spearmanr.html"
   ]
  },
  {
   "cell_type": "code",
   "execution_count": 179,
   "metadata": {},
   "outputs": [
    {
     "data": {
      "application/javascript": [
       "let words = 0;\n",
       "Jupyter.notebook.get_cells().forEach(cell => {if (cell.cell_type == \"markdown\") { words += cell.element[0].innerText.split(\" \").length }})\n",
       "element.text(\"markdown words: \" + words)\n"
      ],
      "text/plain": [
       "<IPython.core.display.Javascript object>"
      ]
     },
     "metadata": {},
     "output_type": "display_data"
    }
   ],
   "source": [
    "%%javascript\n",
    "let words = 0;\n",
    "Jupyter.notebook.get_cells().forEach(cell => {if (cell.cell_type == \"markdown\") { words += cell.element[0].innerText.split(\" \").length }})\n",
    "element.text(\"markdown words: \" + words)"
   ]
  },
  {
   "cell_type": "code",
   "execution_count": null,
   "metadata": {},
   "outputs": [],
   "source": []
  }
 ],
 "metadata": {
  "kernelspec": {
   "display_name": "Python 3",
   "language": "python",
   "name": "python3"
  },
  "language_info": {
   "codemirror_mode": {
    "name": "ipython",
    "version": 3
   },
   "file_extension": ".py",
   "mimetype": "text/x-python",
   "name": "python",
   "nbconvert_exporter": "python",
   "pygments_lexer": "ipython3",
   "version": "3.7.6"
  }
 },
 "nbformat": 4,
 "nbformat_minor": 4
}
