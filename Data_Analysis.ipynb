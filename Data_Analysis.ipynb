{
 "cells": [
  {
   "cell_type": "markdown",
   "metadata": {},
   "source": [
    "INFO 2950 - FINAL PROJECT (Avni, Aryana, and Ishneet)"
   ]
  },
  {
   "cell_type": "code",
   "execution_count": 13,
   "metadata": {},
   "outputs": [],
   "source": [
    "import pandas as pd\n",
    "import numpy as np\n",
    "import matplotlib.pyplot as plt\n",
    "from sklearn.linear_model import LinearRegression"
   ]
  },
  {
   "cell_type": "code",
   "execution_count": 14,
   "metadata": {},
   "outputs": [],
   "source": [
    "combined = pd.read_csv('FinalCombined.csv')"
   ]
  },
  {
   "cell_type": "code",
   "execution_count": 15,
   "metadata": {},
   "outputs": [
    {
     "data": {
      "text/html": [
       "<div>\n",
       "<style scoped>\n",
       "    .dataframe tbody tr th:only-of-type {\n",
       "        vertical-align: middle;\n",
       "    }\n",
       "\n",
       "    .dataframe tbody tr th {\n",
       "        vertical-align: top;\n",
       "    }\n",
       "\n",
       "    .dataframe thead th {\n",
       "        text-align: right;\n",
       "    }\n",
       "</style>\n",
       "<table border=\"1\" class=\"dataframe\">\n",
       "  <thead>\n",
       "    <tr style=\"text-align: right;\">\n",
       "      <th></th>\n",
       "      <th>Unnamed: 0</th>\n",
       "      <th>State</th>\n",
       "      <th>Abbreviation</th>\n",
       "      <th>County</th>\n",
       "      <th>avg_aqi</th>\n",
       "      <th>Pop_Estimate</th>\n",
       "      <th>Per capita personal income 2018</th>\n",
       "    </tr>\n",
       "  </thead>\n",
       "  <tbody>\n",
       "    <tr>\n",
       "      <th>0</th>\n",
       "      <td>0</td>\n",
       "      <td>Alabama</td>\n",
       "      <td>AL</td>\n",
       "      <td>Baldwin</td>\n",
       "      <td>36.83</td>\n",
       "      <td>218,022</td>\n",
       "      <td>45,596</td>\n",
       "    </tr>\n",
       "    <tr>\n",
       "      <th>1</th>\n",
       "      <td>1</td>\n",
       "      <td>Alabama</td>\n",
       "      <td>AL</td>\n",
       "      <td>Clay</td>\n",
       "      <td>28.99</td>\n",
       "      <td>13,275</td>\n",
       "      <td>33,530</td>\n",
       "    </tr>\n",
       "    <tr>\n",
       "      <th>2</th>\n",
       "      <td>2</td>\n",
       "      <td>Alabama</td>\n",
       "      <td>AL</td>\n",
       "      <td>Colbert</td>\n",
       "      <td>35.64</td>\n",
       "      <td>54,762</td>\n",
       "      <td>38,378</td>\n",
       "    </tr>\n",
       "    <tr>\n",
       "      <th>3</th>\n",
       "      <td>3</td>\n",
       "      <td>Alabama</td>\n",
       "      <td>AL</td>\n",
       "      <td>DeKalb</td>\n",
       "      <td>36.72</td>\n",
       "      <td>71,385</td>\n",
       "      <td>31,916</td>\n",
       "    </tr>\n",
       "    <tr>\n",
       "      <th>4</th>\n",
       "      <td>4</td>\n",
       "      <td>Alabama</td>\n",
       "      <td>AL</td>\n",
       "      <td>Elmore</td>\n",
       "      <td>35.33</td>\n",
       "      <td>81,887</td>\n",
       "      <td>42,269</td>\n",
       "    </tr>\n",
       "  </tbody>\n",
       "</table>\n",
       "</div>"
      ],
      "text/plain": [
       "   Unnamed: 0    State Abbreviation   County  avg_aqi Pop_Estimate  \\\n",
       "0           0  Alabama           AL  Baldwin    36.83      218,022   \n",
       "1           1  Alabama           AL     Clay    28.99       13,275   \n",
       "2           2  Alabama           AL  Colbert    35.64       54,762   \n",
       "3           3  Alabama           AL   DeKalb    36.72       71,385   \n",
       "4           4  Alabama           AL   Elmore    35.33       81,887   \n",
       "\n",
       "  Per capita personal income 2018  \n",
       "0                          45,596  \n",
       "1                          33,530  \n",
       "2                          38,378  \n",
       "3                          31,916  \n",
       "4                          42,269  "
      ]
     },
     "execution_count": 15,
     "metadata": {},
     "output_type": "execute_result"
    }
   ],
   "source": [
    "combined.head()"
   ]
  },
  {
   "cell_type": "code",
   "execution_count": 16,
   "metadata": {},
   "outputs": [
    {
     "name": "stdout",
     "output_type": "stream",
     "text": [
      "The mean of the average air quality index is 38.64214214214209\n",
      "The mean population estimate is 324117.3923923924\n",
      "The mean per capita personal income is 48472.238238238235\n"
     ]
    }
   ],
   "source": [
    "mean_aqi = np.mean(combined[\"avg_aqi\"])\n",
    "print('The mean of the average air quality index is', mean_aqi)\n",
    "\n",
    "combined[\"Pop_Estimate\"] = combined[\"Pop_Estimate\"].str.replace(\",\", \"\")\n",
    "#combined[\"Pop_Estimate\"][0]\n",
    "combined[\"Pop_Estimate\"] = pd.to_numeric(combined[\"Pop_Estimate\"])\n",
    "#combined[\"Pop_Estimate\"][0]\n",
    "mean_pop_est = np.mean(combined[\"Pop_Estimate\"])\n",
    "print('The mean population estimate is', mean_pop_est)\n",
    "combined[\"Per capita personal income 2018\"] = combined[\"Per capita personal income 2018\"].str.replace(\",\", \"\")\n",
    "combined[\"Per capita personal income 2018\"] = pd.to_numeric(combined[\"Per capita personal income 2018\"])\n",
    "mean_income = np.mean(combined[\"Per capita personal income 2018\"])\n",
    "print('The mean per capita personal income is', mean_income)"
   ]
  },
  {
   "cell_type": "markdown",
   "metadata": {},
   "source": [
    "When trying to calculate the mean of population estimate and per capita personal income 2018 above, we discovered that the values in were strings and the commas were creating errors when trying to conver the values to integers. We tackled this error using the code in the comments above."
   ]
  },
  {
   "cell_type": "code",
   "execution_count": 17,
   "metadata": {},
   "outputs": [
    {
     "name": "stdout",
     "output_type": "stream",
     "text": [
      "The standard deviation of AQI is 12.181000976956561\n",
      "The standard deviation of population is 1056408.9896333555\n",
      "The standard deviation of income is 16221.424142550242\n"
     ]
    }
   ],
   "source": [
    "#placeholder for standard deviations\n",
    "std_aqi = np.std(combined[\"avg_aqi\"])\n",
    "std_pop = np.std(combined[\"Pop_Estimate\"])\n",
    "std_inc = np.std(combined[\"Per capita personal income 2018\"])\n",
    "print(\"The standard deviation of AQI is\", std_aqi)\n",
    "print(\"The standard deviation of population is\", std_pop)\n",
    "print(\"The standard deviation of income is\", std_inc)"
   ]
  },
  {
   "cell_type": "code",
   "execution_count": 18,
   "metadata": {},
   "outputs": [
    {
     "data": {
      "image/png": "[encoded data removed]",
      "text/plain": [
       "<Figure size 432x288 with 1 Axes>"
      ]
     },
     "metadata": {
      "needs_background": "light"
     },
     "output_type": "display_data"
    }
   ],
   "source": [
    "#histogram\n",
    "plt.hist(combined[\"avg_aqi\"], bins = 30)\n",
    "plt.title('The histogram of average AQI')\n",
    "plt.show()"
   ]
  },
  {
   "cell_type": "markdown",
   "metadata": {},
   "source": [
    "The histogram of the AQI shows us a distribution that looks approximatley like a normal distribution, however it is concentrated around its mean of 38. This is probably due to the high standard deviation of 12.18."
   ]
  },
  {
   "cell_type": "code",
   "execution_count": 19,
   "metadata": {},
   "outputs": [
    {
     "data": {
      "image/png": "[encoded data removed]",
      "text/plain": [
       "<Figure size 432x288 with 1 Axes>"
      ]
     },
     "metadata": {
      "needs_background": "light"
     },
     "output_type": "display_data"
    }
   ],
   "source": [
    "plt.hist(combined[\"Pop_Estimate\"], bins = 30)\n",
    "plt.title('The histogram of the Population')\n",
    "plt.show()"
   ]
  },
  {
   "cell_type": "markdown",
   "metadata": {},
   "source": [
    "From the histogram of the population we can see there are two outliers which means there are two cities whose population is much larger than the mean population. The next histogram is if these two cities are removed."
   ]
  },
  {
   "cell_type": "code",
   "execution_count": 20,
   "metadata": {},
   "outputs": [
    {
     "data": {
      "image/png": "[encoded data removed]",
      "text/plain": [
       "<Figure size 432x288 with 1 Axes>"
      ]
     },
     "metadata": {
      "needs_background": "light"
     },
     "output_type": "display_data"
    }
   ],
   "source": [
    "popnoout = combined.loc[combined[\"Pop_Estimate\"] < max(combined[\"Pop_Estimate\"])]\n",
    "popnoout2 = popnoout.loc[popnoout[\"Pop_Estimate\"] < max(popnoout[\"Pop_Estimate\"])]\n",
    "plt.hist(popnoout2[\"Pop_Estimate\"], bins = 30)\n",
    "plt.title('The histogram of the Population without Outlier')\n",
    "plt.show()"
   ]
  },
  {
   "cell_type": "markdown",
   "metadata": {},
   "source": [
    "Taking out the two outliers we see that the populations are still highly right skewed. This is probably because there are many more smaller (probably) rural cities than there are larger and overpopulated cities. So even though there is an average of about 324117 people for the cities there are a handful of cities that are much larger than this. "
   ]
  },
  {
   "cell_type": "code",
   "execution_count": 21,
   "metadata": {},
   "outputs": [
    {
     "data": {
      "image/png": "[encoded data removed]",
      "text/plain": [
       "<Figure size 432x288 with 1 Axes>"
      ]
     },
     "metadata": {
      "needs_background": "light"
     },
     "output_type": "display_data"
    }
   ],
   "source": [
    "plt.hist(combined[\"Per capita personal income 2018\"], bins = 30)\n",
    "plt.title('The histogram of the Income')\n",
    "plt.show()"
   ]
  },
  {
   "cell_type": "markdown",
   "metadata": {},
   "source": [
    "The above histogram of the personal income is also right skewed as there seems to be two or three cities that have a much higher income than the average of about 48472."
   ]
  },
  {
   "cell_type": "markdown",
   "metadata": {},
   "source": [
    "# TO DO: WHICH CITIES HAVE THE INCOMES AND POPULATION THAT ARE \"OUTLIERS\""
   ]
  },
  {
   "cell_type": "code",
   "execution_count": 7,
   "metadata": {},
   "outputs": [
    {
     "data": {
      "image/png": "[encoded data removed]",
      "text/plain": [
       "<Figure size 432x288 with 1 Axes>"
      ]
     },
     "metadata": {
      "needs_background": "light"
     },
     "output_type": "display_data"
    }
   ],
   "source": [
    "#scatter plot of AQI and population\n",
    "plt.scatter(combined[\"Pop_Estimate\"], combined[\"avg_aqi\"])\n",
    "plt.xlim(0, 5000000)\n",
    "plt.xlabel('Population estimate')\n",
    "plt.ylabel('Average AQI')\n",
    "plt.title('The scatter plot of population estimation and average AQI')\n",
    "plt.show()"
   ]
  },
  {
   "cell_type": "markdown",
   "metadata": {},
   "source": [
    "There does not seem to be much of a relationship between population estimate and the average AQI. Most of the data points for average AQI are clustered around  "
   ]
  },
  {
   "cell_type": "code",
   "execution_count": 8,
   "metadata": {
    "scrolled": true
   },
   "outputs": [
    {
     "data": {
      "image/png": "[encoded data removed]",
      "text/plain": [
       "<Figure size 432x288 with 1 Axes>"
      ]
     },
     "metadata": {
      "needs_background": "light"
     },
     "output_type": "display_data"
    }
   ],
   "source": [
    "#scatter plot of AQI and income\n",
    "plt.scatter(combined[\"Per capita personal income 2018\"], combined[\"avg_aqi\"])\n",
    "#plt.xlim(0, 5000000)\n",
    "plt.xlabel('Per capita income')\n",
    "plt.ylabel('Average AQI')\n",
    "plt.title('The scatter plot of per capita income and average AQI')\n",
    "plt.show()"
   ]
  },
  {
   "cell_type": "markdown",
   "metadata": {},
   "source": [
    "The above scatter plot shows that it might be worthwhile exploring the relationship with Average AQI in the x-axis"
   ]
  },
  {
   "cell_type": "code",
   "execution_count": 9,
   "metadata": {},
   "outputs": [
    {
     "data": {
      "image/png": "[encoded data removed]",
      "text/plain": [
       "<Figure size 432x288 with 1 Axes>"
      ]
     },
     "metadata": {
      "needs_background": "light"
     },
     "output_type": "display_data"
    }
   ],
   "source": [
    "#scatter plot of income and AQI --> might not be necessary\n",
    "plt.scatter(combined[\"avg_aqi\"], combined[\"Per capita personal income 2018\"])\n",
    "plt.ylabel('Per capita income')\n",
    "plt.xlabel('Average AQI')\n",
    "plt.title('The scatter plot of average AQI and per capita income')\n",
    "plt.show()"
   ]
  },
  {
   "cell_type": "markdown",
   "metadata": {},
   "source": [
    "From both the scatter plots, it seems that most counties have a per capita income randing from USD 20,000 till almost 100,000 with a few outliers either way. Most counties seem to be concentrated in the 30-60 AQI range, which is from the good to the moderate range."
   ]
  },
  {
   "cell_type": "code",
   "execution_count": 10,
   "metadata": {},
   "outputs": [
    {
     "name": "stdout",
     "output_type": "stream",
     "text": [
      "The coefficient of per capita personal income on average AQI is [8.91673971e-05]\n",
      "The intercept of the linear regression is 34.31999882856415\n",
      "The R^2 score is 0.014100164586702045\n",
      "The covariance of AQI and income is [[2.63398263e+08 2.34865375e+04]\n",
      " [2.34865375e+04 1.48525459e+02]]\n"
     ]
    }
   ],
   "source": [
    "#regression model 1: Y = AQI, X = Income\n",
    "aqi_income = LinearRegression().fit(combined[[\"Per capita personal income 2018\"]], combined[\"avg_aqi\"])\n",
    "print(\"The coefficient of per capita personal income on average AQI is\", aqi_income.coef_)\n",
    "print(\"The intercept of the linear regression is\", aqi_income.intercept_)\n",
    "print(\"The R^2 score is\", aqi_income.score(combined[[\"Per capita personal income 2018\"]], combined[\"avg_aqi\"]))\n",
    "print(\"The covariance of AQI and income is\", np.cov(combined[\"Per capita personal income 2018\"], \n",
    "                                                   combined[\"avg_aqi\"]))"
   ]
  },
  {
   "cell_type": "markdown",
   "metadata": {},
   "source": [
    "The above model shows that a linear regression is not a good fit for modelling the relationship between per capita personal income and average AQI. The slope also indicates a very slight relationship, and the intercept suggests that if a county has 0 personal income, they are likely to be in a good quality air environment. We can disregard the interpretation of an intercept here since no county in our dataset has 0 income. The covariance between average AQI and per capita personal income, however, is quite high at 2.349 x 10^4. This demonstrates that there is certainly a relationship between the two variables, but not linear like we have just shown."
   ]
  },
  {
   "cell_type": "code",
   "execution_count": 11,
   "metadata": {},
   "outputs": [
    {
     "name": "stdout",
     "output_type": "stream",
     "text": [
      "The coefficient of average AQI on per capita personal income is [158.13139164]\n",
      "The intercept of the linear regression is 42361.70252533823\n",
      "The R^2 score is 0.014100164586702157\n"
     ]
    }
   ],
   "source": [
    "#regression model 2: Y = Income, X = AQI\n",
    "income_aqi = LinearRegression().fit(combined[[\"avg_aqi\"]], combined[\"Per capita personal income 2018\"])\n",
    "print(\"The coefficient of average AQI on per capita personal income is\", income_aqi.coef_)\n",
    "print(\"The intercept of the linear regression is\", income_aqi.intercept_)\n",
    "print(\"The R^2 score is\", income_aqi.score(combined[[\"avg_aqi\"]], combined[\"Per capita personal income 2018\"]))"
   ]
  },
  {
   "cell_type": "markdown",
   "metadata": {},
   "source": [
    "When modifying the regression to include average AQI as X and AQI as Y, we found a larger slope which shows that AQI has a larger impact on per capita personal income than the other way around. However, the R^2 value is the same across both regressions, showing that a linear model is not a good fit for modelling the relationship. The covariance is the same as the previous regression too, "
   ]
  },
  {
   "cell_type": "code",
   "execution_count": null,
   "metadata": {},
   "outputs": [],
   "source": []
  }
 ],
 "metadata": {
  "kernelspec": {
   "display_name": "Python 3",
   "language": "python",
   "name": "python3"
  },
  "language_info": {
   "codemirror_mode": {
    "name": "ipython",
    "version": 3
   },
   "file_extension": ".py",
   "mimetype": "text/x-python",
   "name": "python",
   "nbconvert_exporter": "python",
   "pygments_lexer": "ipython3",
   "version": "3.7.6"
  }
 },
 "nbformat": 4,
 "nbformat_minor": 4
}
