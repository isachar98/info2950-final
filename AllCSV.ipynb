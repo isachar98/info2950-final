{
 "cells": [
  {
   "cell_type": "markdown",
   "metadata": {},
   "source": [
    "INFO 2950 - FINAL PROJECT (Avni, Aryana, and Ishneet)"
   ]
  },
  {
   "cell_type": "code",
   "execution_count": 20,
   "metadata": {},
   "outputs": [],
   "source": [
    "import pandas as pd\n",
    "import numpy as np\n",
    "import matplotlib.pyplot as plt\n",
    "from sklearn.linear_model import LinearRegression"
   ]
  },
  {
   "cell_type": "code",
   "execution_count": 21,
   "metadata": {},
   "outputs": [],
   "source": [
    "aqi = pd.read_csv(\"daily_aqi_by_county_2018.csv\")\n",
    "pop = pd.read_csv(\"PopulationEstimates.csv\")\n",
    "inc = pd.read_csv(\"lapi1119.csv\")\n",
    "states = pd.read_csv(\"states.csv\")"
   ]
  },
  {
   "cell_type": "code",
   "execution_count": 22,
   "metadata": {},
   "outputs": [
    {
     "data": {
      "text/html": [
       "<div>\n",
       "<style scoped>\n",
       "    .dataframe tbody tr th:only-of-type {\n",
       "        vertical-align: middle;\n",
       "    }\n",
       "\n",
       "    .dataframe tbody tr th {\n",
       "        vertical-align: top;\n",
       "    }\n",
       "\n",
       "    .dataframe thead th {\n",
       "        text-align: right;\n",
       "    }\n",
       "</style>\n",
       "<table border=\"1\" class=\"dataframe\">\n",
       "  <thead>\n",
       "    <tr style=\"text-align: right;\">\n",
       "      <th>Date</th>\n",
       "      <th>State Name</th>\n",
       "      <th>county Name</th>\n",
       "      <th>avg_aqi</th>\n",
       "    </tr>\n",
       "  </thead>\n",
       "  <tbody>\n",
       "    <tr>\n",
       "      <th>0</th>\n",
       "      <td>Alabama</td>\n",
       "      <td>Baldwin</td>\n",
       "      <td>36.83</td>\n",
       "    </tr>\n",
       "    <tr>\n",
       "      <th>1</th>\n",
       "      <td>Alabama</td>\n",
       "      <td>Clay</td>\n",
       "      <td>28.99</td>\n",
       "    </tr>\n",
       "    <tr>\n",
       "      <th>2</th>\n",
       "      <td>Alabama</td>\n",
       "      <td>Colbert</td>\n",
       "      <td>35.64</td>\n",
       "    </tr>\n",
       "    <tr>\n",
       "      <th>3</th>\n",
       "      <td>Alabama</td>\n",
       "      <td>DeKalb</td>\n",
       "      <td>36.72</td>\n",
       "    </tr>\n",
       "    <tr>\n",
       "      <th>4</th>\n",
       "      <td>Alabama</td>\n",
       "      <td>Elmore</td>\n",
       "      <td>35.33</td>\n",
       "    </tr>\n",
       "  </tbody>\n",
       "</table>\n",
       "</div>"
      ],
      "text/plain": [
       "Date State Name county Name  avg_aqi\n",
       "0       Alabama     Baldwin    36.83\n",
       "1       Alabama        Clay    28.99\n",
       "2       Alabama     Colbert    35.64\n",
       "3       Alabama      DeKalb    36.72\n",
       "4       Alabama      Elmore    35.33"
      ]
     },
     "execution_count": 22,
     "metadata": {},
     "output_type": "execute_result"
    }
   ],
   "source": [
    "aqi_pivot = pd.pivot_table(aqi, values = 'AQI', columns = ['Date'], index = ['State Name','county Name'], aggfunc=np.sum)\n",
    "aqi_pivot = aqi_pivot.reset_index(level=['State Name','county Name'])\n",
    "\n",
    "aqi_pivot['avg_aqi'] = round(aqi_pivot.drop(['State Name','county Name'], axis=1).apply(lambda x: x.mean(), axis=1),2)\n",
    "\n",
    "aqi_clean = aqi_pivot[['State Name', 'county Name', 'avg_aqi']]\n",
    "aqi_clean.head()"
   ]
  },
  {
   "cell_type": "markdown",
   "metadata": {},
   "source": [
    "This dataset doesn't require much cleaning. When we produce our own dataset, we will have to average out daily AQIs into a yearly AQI, in order to be consistent with the rest of our dataset. Since the per capita income is calculated every July 1st, averaging AQI for every July 1st (or approximately that date) will help keep the data consistent across the board. We cleaned this dataset by createing a pivot table based off of the dates and then found an average over the whole year for each county. This average column is the only important one for us. "
   ]
  },
  {
   "cell_type": "markdown",
   "metadata": {},
   "source": [
    "There are a few things to clean about the above dataset. The NaN values result because the rows are left blank in the raw dataset because row 0 signifies a change in state or a description in the beginning of the dataset. This needs to be cleaned. Additionally, the column headings are not named like they are in the raw dataset. Instead, the column names are actually row 1's value. Thus, rows 0 and the current column headings need to be dropped. Furthermore, we only need population estimates for 2018, so our dataset will include only that column! "
   ]
  },
  {
   "cell_type": "code",
   "execution_count": 23,
   "metadata": {},
   "outputs": [],
   "source": [
    "#dropping the first row of the population dataset\n",
    "pop_clean = pop.iloc[1:]\n",
    "#setting the column headings to row 1\n",
    "pop_clean.columns = pop_clean.iloc[0]\n",
    "pop_clean = pop_clean.drop(1, axis = 0)\n",
    "#now we have proper column headings. The only relevant information we want from this dataset is the population estimate"
   ]
  },
  {
   "cell_type": "code",
   "execution_count": 25,
   "metadata": {},
   "outputs": [
    {
     "data": {
      "text/html": [
       "<div>\n",
       "<style scoped>\n",
       "    .dataframe tbody tr th:only-of-type {\n",
       "        vertical-align: middle;\n",
       "    }\n",
       "\n",
       "    .dataframe tbody tr th {\n",
       "        vertical-align: top;\n",
       "    }\n",
       "\n",
       "    .dataframe thead th {\n",
       "        text-align: right;\n",
       "    }\n",
       "</style>\n",
       "<table border=\"1\" class=\"dataframe\">\n",
       "  <thead>\n",
       "    <tr style=\"text-align: right;\">\n",
       "      <th>1</th>\n",
       "      <th>State</th>\n",
       "      <th>Area_Name</th>\n",
       "      <th>POP_ESTIMATE_2018</th>\n",
       "    </tr>\n",
       "  </thead>\n",
       "  <tbody>\n",
       "    <tr>\n",
       "      <th>2</th>\n",
       "      <td>US</td>\n",
       "      <td>United States</td>\n",
       "      <td>327,167,434</td>\n",
       "    </tr>\n",
       "    <tr>\n",
       "      <th>3</th>\n",
       "      <td>AL</td>\n",
       "      <td>Alabama</td>\n",
       "      <td>4,887,871</td>\n",
       "    </tr>\n",
       "    <tr>\n",
       "      <th>4</th>\n",
       "      <td>AL</td>\n",
       "      <td>Autauga County</td>\n",
       "      <td>55,601</td>\n",
       "    </tr>\n",
       "    <tr>\n",
       "      <th>5</th>\n",
       "      <td>AL</td>\n",
       "      <td>Baldwin County</td>\n",
       "      <td>218,022</td>\n",
       "    </tr>\n",
       "    <tr>\n",
       "      <th>6</th>\n",
       "      <td>AL</td>\n",
       "      <td>Barbour County</td>\n",
       "      <td>24,881</td>\n",
       "    </tr>\n",
       "  </tbody>\n",
       "</table>\n",
       "</div>"
      ],
      "text/plain": [
       "1 State       Area_Name POP_ESTIMATE_2018\n",
       "2    US   United States       327,167,434\n",
       "3    AL         Alabama         4,887,871\n",
       "4    AL  Autauga County            55,601\n",
       "5    AL  Baldwin County           218,022\n",
       "6    AL  Barbour County            24,881"
      ]
     },
     "execution_count": 25,
     "metadata": {},
     "output_type": "execute_result"
    }
   ],
   "source": [
    "pop_2018 = pop_clean[['State', 'Area_Name','POP_ESTIMATE_2018']]\n",
    "#print(\"The number of NaN values in pop_2018 is\", pop_2018.isnull().sum().sum()) \n",
    "#pop_clean.head(3274) #this now tell us that our dataset had an extra row of values that are not needed\n",
    "#dropping the extra row of values\n",
    "pop_2018 = pop_2018[:-1]\n",
    "pop_2018.head()"
   ]
  },
  {
   "cell_type": "code",
   "execution_count": 28,
   "metadata": {},
   "outputs": [
    {
     "data": {
      "text/html": [
       "<div>\n",
       "<style scoped>\n",
       "    .dataframe tbody tr th:only-of-type {\n",
       "        vertical-align: middle;\n",
       "    }\n",
       "\n",
       "    .dataframe tbody tr th {\n",
       "        vertical-align: top;\n",
       "    }\n",
       "\n",
       "    .dataframe thead th {\n",
       "        text-align: right;\n",
       "    }\n",
       "</style>\n",
       "<table border=\"1\" class=\"dataframe\">\n",
       "  <thead>\n",
       "    <tr style=\"text-align: right;\">\n",
       "      <th></th>\n",
       "      <th>State</th>\n",
       "      <th>Abbreviation</th>\n",
       "      <th>County</th>\n",
       "      <th>Pop_Estimate</th>\n",
       "    </tr>\n",
       "  </thead>\n",
       "  <tbody>\n",
       "    <tr>\n",
       "      <th>0</th>\n",
       "      <td>Alabama</td>\n",
       "      <td>AL</td>\n",
       "      <td>Alabama</td>\n",
       "      <td>4,887,871</td>\n",
       "    </tr>\n",
       "    <tr>\n",
       "      <th>1</th>\n",
       "      <td>Alabama</td>\n",
       "      <td>AL</td>\n",
       "      <td>Autauga County</td>\n",
       "      <td>55,601</td>\n",
       "    </tr>\n",
       "    <tr>\n",
       "      <th>2</th>\n",
       "      <td>Alabama</td>\n",
       "      <td>AL</td>\n",
       "      <td>Baldwin County</td>\n",
       "      <td>218,022</td>\n",
       "    </tr>\n",
       "    <tr>\n",
       "      <th>3</th>\n",
       "      <td>Alabama</td>\n",
       "      <td>AL</td>\n",
       "      <td>Barbour County</td>\n",
       "      <td>24,881</td>\n",
       "    </tr>\n",
       "    <tr>\n",
       "      <th>4</th>\n",
       "      <td>Alabama</td>\n",
       "      <td>AL</td>\n",
       "      <td>Bibb County</td>\n",
       "      <td>22,400</td>\n",
       "    </tr>\n",
       "    <tr>\n",
       "      <th>...</th>\n",
       "      <td>...</td>\n",
       "      <td>...</td>\n",
       "      <td>...</td>\n",
       "      <td>...</td>\n",
       "    </tr>\n",
       "    <tr>\n",
       "      <th>3188</th>\n",
       "      <td>Wyoming</td>\n",
       "      <td>WY</td>\n",
       "      <td>Sweetwater County</td>\n",
       "      <td>43,051</td>\n",
       "    </tr>\n",
       "    <tr>\n",
       "      <th>3189</th>\n",
       "      <td>Wyoming</td>\n",
       "      <td>WY</td>\n",
       "      <td>Teton County</td>\n",
       "      <td>23,081</td>\n",
       "    </tr>\n",
       "    <tr>\n",
       "      <th>3190</th>\n",
       "      <td>Wyoming</td>\n",
       "      <td>WY</td>\n",
       "      <td>Uinta County</td>\n",
       "      <td>20,299</td>\n",
       "    </tr>\n",
       "    <tr>\n",
       "      <th>3191</th>\n",
       "      <td>Wyoming</td>\n",
       "      <td>WY</td>\n",
       "      <td>Washakie County</td>\n",
       "      <td>7,885</td>\n",
       "    </tr>\n",
       "    <tr>\n",
       "      <th>3192</th>\n",
       "      <td>Wyoming</td>\n",
       "      <td>WY</td>\n",
       "      <td>Weston County</td>\n",
       "      <td>6,967</td>\n",
       "    </tr>\n",
       "  </tbody>\n",
       "</table>\n",
       "<p>3193 rows × 4 columns</p>\n",
       "</div>"
      ],
      "text/plain": [
       "        State Abbreviation             County Pop_Estimate\n",
       "0     Alabama           AL            Alabama    4,887,871\n",
       "1     Alabama           AL     Autauga County       55,601\n",
       "2     Alabama           AL     Baldwin County      218,022\n",
       "3     Alabama           AL     Barbour County       24,881\n",
       "4     Alabama           AL        Bibb County       22,400\n",
       "...       ...          ...                ...          ...\n",
       "3188  Wyoming           WY  Sweetwater County       43,051\n",
       "3189  Wyoming           WY       Teton County       23,081\n",
       "3190  Wyoming           WY       Uinta County       20,299\n",
       "3191  Wyoming           WY    Washakie County        7,885\n",
       "3192  Wyoming           WY      Weston County        6,967\n",
       "\n",
       "[3193 rows x 4 columns]"
      ]
     },
     "execution_count": 28,
     "metadata": {},
     "output_type": "execute_result"
    }
   ],
   "source": [
    "pop_2018_new = states.merge(pop_2018, left_on = \"Abbreviation\", right_on = \"State\")\n",
    "pop_2018_new = pop_2018_new[['State_x', 'Abbreviation', 'Area_Name', 'POP_ESTIMATE_2018']]\n",
    "pop_2018_new.columns = ('State', 'Abbreviation', 'County', 'Pop_Estimate')\n",
    "pop_2018_new"
   ]
  },
  {
   "cell_type": "markdown",
   "metadata": {},
   "source": [
    "pop_2018 is now the cleaned, usable series for our own dataset. It includes population estimates for 2018 only and NaN values have been excluded (which was only the last row that was added accidentally from the source so this doesn't affect our sample size). What is important to note in this series is that it includes totals for each state. "
   ]
  },
  {
   "cell_type": "markdown",
   "metadata": {},
   "source": [
    "We see the same problem with the income dataset as we did with the population estimates dataset. The column names should be row 0 values and NaN values are purposely left blank in the raw dataset to improve readability."
   ]
  },
  {
   "cell_type": "code",
   "execution_count": 29,
   "metadata": {},
   "outputs": [],
   "source": [
    "inc_clean = inc\n",
    "#setting the column headings to row 1\n",
    "inc_clean.columns = inc_clean.iloc[0]\n",
    "inc_clean.columns = ['State','County', 'Per capita personal income 2016', 'Per capita personal income 2017', \n",
    "                     'Per capita personal income 2018', 'Rank in State 2018', 'Percent change 2017', 'Percent change 2018',\n",
    "                    'Percent change in rank 2018']\n",
    "inc_clean = inc_clean.iloc[3:]\n",
    "#There is again an issue with NaN values, this time there are NaN values after each state because the original data set left the row blank"
   ]
  },
  {
   "cell_type": "code",
   "execution_count": 30,
   "metadata": {},
   "outputs": [
    {
     "data": {
      "text/html": [
       "<div>\n",
       "<style scoped>\n",
       "    .dataframe tbody tr th:only-of-type {\n",
       "        vertical-align: middle;\n",
       "    }\n",
       "\n",
       "    .dataframe tbody tr th {\n",
       "        vertical-align: top;\n",
       "    }\n",
       "\n",
       "    .dataframe thead th {\n",
       "        text-align: right;\n",
       "    }\n",
       "</style>\n",
       "<table border=\"1\" class=\"dataframe\">\n",
       "  <thead>\n",
       "    <tr style=\"text-align: right;\">\n",
       "      <th></th>\n",
       "      <th>State</th>\n",
       "      <th>County</th>\n",
       "      <th>Per capita personal income 2018</th>\n",
       "    </tr>\n",
       "  </thead>\n",
       "  <tbody>\n",
       "    <tr>\n",
       "      <th>0</th>\n",
       "      <td>Alabama</td>\n",
       "      <td>Alabama</td>\n",
       "      <td>42,238</td>\n",
       "    </tr>\n",
       "    <tr>\n",
       "      <th>1</th>\n",
       "      <td>Alabama</td>\n",
       "      <td>Autauga</td>\n",
       "      <td>41,618</td>\n",
       "    </tr>\n",
       "    <tr>\n",
       "      <th>2</th>\n",
       "      <td>Alabama</td>\n",
       "      <td>Baldwin</td>\n",
       "      <td>45,596</td>\n",
       "    </tr>\n",
       "    <tr>\n",
       "      <th>3</th>\n",
       "      <td>Alabama</td>\n",
       "      <td>Barbour</td>\n",
       "      <td>35,199</td>\n",
       "    </tr>\n",
       "    <tr>\n",
       "      <th>4</th>\n",
       "      <td>Alabama</td>\n",
       "      <td>Bibb</td>\n",
       "      <td>30,254</td>\n",
       "    </tr>\n",
       "  </tbody>\n",
       "</table>\n",
       "</div>"
      ],
      "text/plain": [
       "     State   County Per capita personal income 2018\n",
       "0  Alabama  Alabama                          42,238\n",
       "1  Alabama  Autauga                          41,618\n",
       "2  Alabama  Baldwin                          45,596\n",
       "3  Alabama  Barbour                          35,199\n",
       "4  Alabama     Bibb                          30,254"
      ]
     },
     "execution_count": 30,
     "metadata": {},
     "output_type": "execute_result"
    }
   ],
   "source": [
    "#dropping all NaN rows from this dataset\n",
    "inc_clean = inc_clean.dropna()\n",
    "\n",
    "#resetting the index to a sequential order\n",
    "inc_clean = inc_clean.reset_index(drop=True)\n",
    "\n",
    "#extracting per capital personal income in 2018\n",
    "inc_2018 = inc_clean[['State','County', 'Per capita personal income 2018']]\n",
    "inc_2018.head()"
   ]
  },
  {
   "cell_type": "markdown",
   "metadata": {},
   "source": [
    "inc_clean is now a cleaned dataset, and inc_2018 contains personal per capital income data from 2018 we need to put in our dataset"
   ]
  },
  {
   "cell_type": "code",
   "execution_count": 31,
   "metadata": {},
   "outputs": [
    {
     "data": {
      "text/plain": [
       "1056"
      ]
     },
     "execution_count": 31,
     "metadata": {},
     "output_type": "execute_result"
    }
   ],
   "source": [
    "#Our final cleaned datasets are aqi_clean, pop_2018_new, inc_2018\n",
    "#The min of the number of rows that each dataset contains \n",
    "min(len(aqi_clean), len(pop_2018_new), len(inc_2018))"
   ]
  },
  {
   "cell_type": "code",
   "execution_count": 32,
   "metadata": {},
   "outputs": [],
   "source": [
    "#Deleting the end part of the population dataframe counties because they contain extra words that won't match up\n",
    "list_words_to_delete = [' County', ' Borough', ' Census Area']\n",
    "pat = r'\\b(?:{})\\b'.format('|'.join(list_words_to_delete))\n",
    "pop_2018_new['new'] = pop_2018_new['County'].str.replace(pat, '')\n",
    "pop_2018_new['County'] = pop_2018_new[['new']]"
   ]
  },
  {
   "cell_type": "code",
   "execution_count": 33,
   "metadata": {},
   "outputs": [
    {
     "data": {
      "text/html": [
       "<div>\n",
       "<style scoped>\n",
       "    .dataframe tbody tr th:only-of-type {\n",
       "        vertical-align: middle;\n",
       "    }\n",
       "\n",
       "    .dataframe tbody tr th {\n",
       "        vertical-align: top;\n",
       "    }\n",
       "\n",
       "    .dataframe thead th {\n",
       "        text-align: right;\n",
       "    }\n",
       "</style>\n",
       "<table border=\"1\" class=\"dataframe\">\n",
       "  <thead>\n",
       "    <tr style=\"text-align: right;\">\n",
       "      <th></th>\n",
       "      <th>State</th>\n",
       "      <th>Abbreviation</th>\n",
       "      <th>County</th>\n",
       "      <th>avg_aqi</th>\n",
       "      <th>Pop_Estimate</th>\n",
       "      <th>Per capita personal income 2018</th>\n",
       "    </tr>\n",
       "  </thead>\n",
       "  <tbody>\n",
       "    <tr>\n",
       "      <th>0</th>\n",
       "      <td>Alabama</td>\n",
       "      <td>AL</td>\n",
       "      <td>Baldwin</td>\n",
       "      <td>36.83</td>\n",
       "      <td>218,022</td>\n",
       "      <td>45,596</td>\n",
       "    </tr>\n",
       "    <tr>\n",
       "      <th>1</th>\n",
       "      <td>Alabama</td>\n",
       "      <td>AL</td>\n",
       "      <td>Clay</td>\n",
       "      <td>28.99</td>\n",
       "      <td>13,275</td>\n",
       "      <td>33,530</td>\n",
       "    </tr>\n",
       "    <tr>\n",
       "      <th>2</th>\n",
       "      <td>Alabama</td>\n",
       "      <td>AL</td>\n",
       "      <td>Colbert</td>\n",
       "      <td>35.64</td>\n",
       "      <td>54,762</td>\n",
       "      <td>38,378</td>\n",
       "    </tr>\n",
       "    <tr>\n",
       "      <th>3</th>\n",
       "      <td>Alabama</td>\n",
       "      <td>AL</td>\n",
       "      <td>DeKalb</td>\n",
       "      <td>36.72</td>\n",
       "      <td>71,385</td>\n",
       "      <td>31,916</td>\n",
       "    </tr>\n",
       "    <tr>\n",
       "      <th>4</th>\n",
       "      <td>Alabama</td>\n",
       "      <td>AL</td>\n",
       "      <td>Elmore</td>\n",
       "      <td>35.33</td>\n",
       "      <td>81,887</td>\n",
       "      <td>42,269</td>\n",
       "    </tr>\n",
       "  </tbody>\n",
       "</table>\n",
       "</div>"
      ],
      "text/plain": [
       "     State Abbreviation   County  avg_aqi Pop_Estimate  \\\n",
       "0  Alabama           AL  Baldwin    36.83      218,022   \n",
       "1  Alabama           AL     Clay    28.99       13,275   \n",
       "2  Alabama           AL  Colbert    35.64       54,762   \n",
       "3  Alabama           AL   DeKalb    36.72       71,385   \n",
       "4  Alabama           AL   Elmore    35.33       81,887   \n",
       "\n",
       "  Per capita personal income 2018  \n",
       "0                          45,596  \n",
       "1                          33,530  \n",
       "2                          38,378  \n",
       "3                          31,916  \n",
       "4                          42,269  "
      ]
     },
     "execution_count": 33,
     "metadata": {},
     "output_type": "execute_result"
    }
   ],
   "source": [
    "new = pd.merge(aqi_clean, pop_2018_new, how = 'inner', left_on = ['State Name', 'county Name'], right_on = ['State', 'County'])\n",
    "new = new[['State', 'Abbreviation', 'County', 'avg_aqi', 'Pop_Estimate']]\n",
    "combined = pd.merge(new, inc_2018, left_on = ['State', 'County'], right_on = ['State', 'County'])\n",
    "combined.to_csv('FinalCombined.csv')\n",
    "combined.head()"
   ]
  }
 ],
 "metadata": {
  "kernelspec": {
   "display_name": "Python 3",
   "language": "python",
   "name": "python3"
  },
  "language_info": {
   "codemirror_mode": {
    "name": "ipython",
    "version": 3
   },
   "file_extension": ".py",
   "mimetype": "text/x-python",
   "name": "python",
   "nbconvert_exporter": "python",
   "pygments_lexer": "ipython3",
   "version": "3.7.6"
  }
 },
 "nbformat": 4,
 "nbformat_minor": 4
}
